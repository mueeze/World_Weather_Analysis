{
 "cells": [
  {
   "cell_type": "code",
   "execution_count": 7,
   "id": "04250053",
   "metadata": {},
   "outputs": [],
   "source": [
    "# Import the dependencies.\n",
    "import pandas as pd\n",
    "import gmaps\n",
    "import requests\n",
    "# Import the API key.\n",
    "from config import g_key"
   ]
  },
  {
   "cell_type": "code",
   "execution_count": 8,
   "id": "ce655c4a",
   "metadata": {},
   "outputs": [
    {
     "data": {
      "text/html": [
       "<div>\n",
       "<style scoped>\n",
       "    .dataframe tbody tr th:only-of-type {\n",
       "        vertical-align: middle;\n",
       "    }\n",
       "\n",
       "    .dataframe tbody tr th {\n",
       "        vertical-align: top;\n",
       "    }\n",
       "\n",
       "    .dataframe thead th {\n",
       "        text-align: right;\n",
       "    }\n",
       "</style>\n",
       "<table border=\"1\" class=\"dataframe\">\n",
       "  <thead>\n",
       "    <tr style=\"text-align: right;\">\n",
       "      <th></th>\n",
       "      <th>City_ID</th>\n",
       "      <th>City</th>\n",
       "      <th>Country</th>\n",
       "      <th>Date</th>\n",
       "      <th>Lat</th>\n",
       "      <th>Lng</th>\n",
       "      <th>Max Temp</th>\n",
       "      <th>Humidity</th>\n",
       "      <th>Cloudiness</th>\n",
       "      <th>Wind Speed</th>\n",
       "    </tr>\n",
       "  </thead>\n",
       "  <tbody>\n",
       "    <tr>\n",
       "      <th>0</th>\n",
       "      <td>0</td>\n",
       "      <td>Hithadhoo</td>\n",
       "      <td>MV</td>\n",
       "      <td>2022-10-10 17:00:22</td>\n",
       "      <td>-0.6000</td>\n",
       "      <td>73.0833</td>\n",
       "      <td>81.16</td>\n",
       "      <td>77</td>\n",
       "      <td>97</td>\n",
       "      <td>17.56</td>\n",
       "    </tr>\n",
       "    <tr>\n",
       "      <th>1</th>\n",
       "      <td>1</td>\n",
       "      <td>Henties Bay</td>\n",
       "      <td>NaN</td>\n",
       "      <td>2022-10-10 17:00:23</td>\n",
       "      <td>-22.1160</td>\n",
       "      <td>14.2845</td>\n",
       "      <td>60.80</td>\n",
       "      <td>92</td>\n",
       "      <td>60</td>\n",
       "      <td>4.68</td>\n",
       "    </tr>\n",
       "    <tr>\n",
       "      <th>2</th>\n",
       "      <td>2</td>\n",
       "      <td>Kem</td>\n",
       "      <td>RU</td>\n",
       "      <td>2022-10-10 17:00:25</td>\n",
       "      <td>64.9555</td>\n",
       "      <td>34.5793</td>\n",
       "      <td>46.96</td>\n",
       "      <td>80</td>\n",
       "      <td>100</td>\n",
       "      <td>12.10</td>\n",
       "    </tr>\n",
       "    <tr>\n",
       "      <th>3</th>\n",
       "      <td>3</td>\n",
       "      <td>Norman Wells</td>\n",
       "      <td>CA</td>\n",
       "      <td>2022-10-10 17:00:26</td>\n",
       "      <td>65.2820</td>\n",
       "      <td>-126.8329</td>\n",
       "      <td>33.22</td>\n",
       "      <td>92</td>\n",
       "      <td>100</td>\n",
       "      <td>31.32</td>\n",
       "    </tr>\n",
       "    <tr>\n",
       "      <th>4</th>\n",
       "      <td>4</td>\n",
       "      <td>Victoria</td>\n",
       "      <td>HK</td>\n",
       "      <td>2022-10-10 16:57:03</td>\n",
       "      <td>22.2855</td>\n",
       "      <td>114.1577</td>\n",
       "      <td>76.32</td>\n",
       "      <td>44</td>\n",
       "      <td>33</td>\n",
       "      <td>11.99</td>\n",
       "    </tr>\n",
       "  </tbody>\n",
       "</table>\n",
       "</div>"
      ],
      "text/plain": [
       "   City_ID          City Country                 Date      Lat       Lng  \\\n",
       "0        0     Hithadhoo      MV  2022-10-10 17:00:22  -0.6000   73.0833   \n",
       "1        1   Henties Bay     NaN  2022-10-10 17:00:23 -22.1160   14.2845   \n",
       "2        2           Kem      RU  2022-10-10 17:00:25  64.9555   34.5793   \n",
       "3        3  Norman Wells      CA  2022-10-10 17:00:26  65.2820 -126.8329   \n",
       "4        4      Victoria      HK  2022-10-10 16:57:03  22.2855  114.1577   \n",
       "\n",
       "   Max Temp  Humidity  Cloudiness  Wind Speed  \n",
       "0     81.16        77          97       17.56  \n",
       "1     60.80        92          60        4.68  \n",
       "2     46.96        80         100       12.10  \n",
       "3     33.22        92         100       31.32  \n",
       "4     76.32        44          33       11.99  "
      ]
     },
     "execution_count": 8,
     "metadata": {},
     "output_type": "execute_result"
    }
   ],
   "source": [
    "# Store the CSV you saved created in part one into a DataFrame.\n",
    "city_data_df = pd.read_csv(\"weather_data/cities.csv\")\n",
    "city_data_df.head()"
   ]
  },
  {
   "cell_type": "code",
   "execution_count": 9,
   "id": "cfc61cbb",
   "metadata": {},
   "outputs": [
    {
     "data": {
      "text/plain": [
       "City_ID         int64\n",
       "City           object\n",
       "Country        object\n",
       "Date           object\n",
       "Lat           float64\n",
       "Lng           float64\n",
       "Max Temp      float64\n",
       "Humidity        int64\n",
       "Cloudiness      int64\n",
       "Wind Speed    float64\n",
       "dtype: object"
      ]
     },
     "execution_count": 9,
     "metadata": {},
     "output_type": "execute_result"
    }
   ],
   "source": [
    "city_data_df.dtypes"
   ]
  },
  {
   "cell_type": "code",
   "execution_count": 21,
   "id": "eb66c5bd",
   "metadata": {},
   "outputs": [],
   "source": [
    "# Configure gmaps to use your Google API Key\n",
    "gmaps.configure(api_key = g_key)"
   ]
  },
  {
   "cell_type": "code",
   "execution_count": 22,
   "id": "1861acac",
   "metadata": {},
   "outputs": [
    {
     "data": {
      "application/vnd.jupyter.widget-view+json": {
       "model_id": "103a6ea849514b0caf2166c1f6e33a7a",
       "version_major": 2,
       "version_minor": 0
      },
      "text/plain": [
       "Figure(layout=FigureLayout(height='420px'))"
      ]
     },
     "metadata": {},
     "output_type": "display_data"
    }
   ],
   "source": [
    "# Heatmap of Temperature\n",
    "# Get the longitude and latitude.\n",
    "locations = city_data_df[['Lat', 'Lng']]\n",
    "# Get the maximum temperature\n",
    "max_temp = city_data_df['Max Temp']\n",
    "# Assign the figure variable\n",
    "fig = gmaps.figure()\n",
    "# Assign the heatmap variable\n",
    "heat_layer = gmaps.heatmap_layer(locations, weights = max_temp)\n",
    "# Add the heatmap layer\n",
    "fig.add_layer(heat_layer)\n",
    "# Call the figure\n",
    "fig"
   ]
  },
  {
   "cell_type": "code",
   "execution_count": null,
   "id": "8048c917",
   "metadata": {},
   "outputs": [],
   "source": []
  }
 ],
 "metadata": {
  "kernelspec": {
   "display_name": "PythonData",
   "language": "python",
   "name": "pythondata"
  },
  "language_info": {
   "codemirror_mode": {
    "name": "ipython",
    "version": 3
   },
   "file_extension": ".py",
   "mimetype": "text/x-python",
   "name": "python",
   "nbconvert_exporter": "python",
   "pygments_lexer": "ipython3",
   "version": "3.9.12"
  }
 },
 "nbformat": 4,
 "nbformat_minor": 5
}
